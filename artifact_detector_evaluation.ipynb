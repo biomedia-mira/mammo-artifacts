{
 "cells": [
  {
   "cell_type": "markdown",
   "metadata": {},
   "source": [
    "# Evaluation of artefact detector\n",
    "\n",
    "This notebook generates test metrics (ROC-AUC + confusion matrices) for the artefact detector. "
   ]
  },
  {
   "cell_type": "code",
   "execution_count": null,
   "metadata": {},
   "outputs": [],
   "source": [
    "import numpy as np\n",
    "import pandas as pd\n",
    "from pytorch_lightning import Trainer, seed_everything\n",
    "import matplotlib.pyplot as plt\n",
    "from dataset import EMBEDMammoDataModule, ANNOTATION_FILE\n",
    "from sklearn.metrics import multilabel_confusion_matrix\n",
    "from artifact_detector_model import Multilabel_ArtifactDetector, MARKER_NAMES\n",
    "import matplotlib.pyplot as plt\n",
    "import matplotlib.gridspec as gridspec\n",
    "import seaborn as sns\n",
    "plt.rcParams[\"font.family\"] = \"Serif\""
   ]
  },
  {
   "cell_type": "code",
   "execution_count": null,
   "metadata": {},
   "outputs": [],
   "source": [
    "seed_everything(42, workers=True)\n",
    "model_dir = \"output/artifact-detector/version_0/checkpoints/epoch=6-step=2898.ckpt\""
   ]
  },
  {
   "cell_type": "code",
   "execution_count": null,
   "metadata": {},
   "outputs": [],
   "source": [
    "df = pd.read_csv(ANNOTATION_FILE)\n",
    "\n",
    "num_classes = len(MARKER_NAMES)\n",
    "df[\"multilabel_markers\"] = df.apply(\n",
    "    lambda row: np.array([row[name] for name in MARKER_NAMES]), axis=1\n",
    ")\n",
    "data = EMBEDMammoDataModule(df, image_size=(512, 384), target=\"artifact\", batch_size=32, split_dataset=True)\n",
    "model = Multilabel_ArtifactDetector.load_from_checkpoint(model_dir)\n",
    "\n",
    "trainer = Trainer()\n",
    "\n",
    "split = \"test\"\n",
    "method = trainer.test if split == \"test\" else trainer.validate\n",
    "method(model=model, datamodule=data)"
   ]
  },
  {
   "cell_type": "code",
   "execution_count": null,
   "metadata": {},
   "outputs": [],
   "source": [
    "targets = model.val_trgts if split == \"val\" else model.test_trgts\n",
    "predictions = model.val_preds if split == \"val\" else model.test_preds\n",
    "y_true = np.asarray(targets)\n",
    "labels = MARKER_NAMES\n",
    "y_pred = np.asarray(predictions)\n",
    "y_true = np.asarray(targets)\n",
    "y_pred = predictions > 0.5\n",
    "\n",
    "cm = multilabel_confusion_matrix(y_true, y_pred)\n",
    "cm_normalized = cm.astype(float) / cm.sum(axis=1)[:, np.newaxis]\n",
    "\n",
    "# fig, axes = plt.subplots(2, 3, figsize=(9, 2))\n",
    "# ax = axes\n",
    "# fig, axes = plt.subplots(2, 3, figsize=(10, 5))\\n\",\n",
    "fig = plt.figure(figsize=(6, 4), facecolor=\"none\")\n",
    "# Create a GridSpec with 2 rows and 3 columns\n",
    "gs = gridspec.GridSpec(2, 6, figure=fig)\n",
    "ax = []\n",
    "# First row: 3 columns (one per column)\\n\",\n",
    "ax.append(fig.add_subplot(gs[0, 0:2]))  # First subplot in row 1, column 1\\n\",\n",
    "ax.append(fig.add_subplot(gs[0, 2:4]))  # Second subplot in row 1, column 2\\n\",\n",
    "ax.append(fig.add_subplot(gs[0, 4:]))  # Third subplot in row 1, column 3\\n\",\n",
    "# Second row: 2 columns centered (each one spans two columns)\\n\",\n",
    "ax.append(\n",
    "    fig.add_subplot(gs[1, 1:3])\n",
    ")  # First subplot in row 2, spanning columns 1 and 2\\n\",\n",
    "ax.append(\n",
    "    fig.add_subplot(gs[1, 3:5])\n",
    ")  # Second subplot in row 2, spanning columns 2 and 3\\n\",\n",
    "fig.subplots_adjust(wspace=0.3)\n",
    "\n",
    "\n",
    "for i, (cf_matrix, label, axi) in enumerate(zip(cm, labels, ax)):\n",
    "    # display = ConfusionMatrixDisplay(matrix, display_labels=[0, 1])\n",
    "    group_counts = [f\"{value:0.0f}\" for value in cf_matrix.flatten()]\n",
    "    group_percentages = [\n",
    "        f\"{value:.2%}\"\n",
    "        for value in (cf_matrix / np.sum(cf_matrix, 1, keepdims=True)).flatten()\n",
    "    ]\n",
    "    labels = [f\"{v3}\\n(N={v2})\" for v2, v3 in zip(group_counts, group_percentages)]\n",
    "    labels = np.asarray(labels).reshape(2, 2)\n",
    "    print(labels)\n",
    "    sns.heatmap(\n",
    "        (cf_matrix / np.sum(cf_matrix, 1, keepdims=True)),\n",
    "        annot=labels,\n",
    "        fmt=\"\",\n",
    "        cmap=\"Blues\",\n",
    "        ax=axi,\n",
    "        vmin=0,\n",
    "        vmax=1,\n",
    "        cbar=False,\n",
    "    )\n",
    "    axi.set_title(' '.join([r'$\\bf{' + t +'}$' for t in label.capitalize().split(' ')]), fontsize=11) \n",
    "plt.tight_layout()\n",
    "plt.savefig(\"output/confusion_matrix.pdf\", bbox_inches=\"tight\")\n",
    "plt.show()"
   ]
  },
  {
   "cell_type": "markdown",
   "metadata": {},
   "source": [
    "## [Optional] plot the errors"
   ]
  },
  {
   "cell_type": "code",
   "execution_count": null,
   "metadata": {},
   "outputs": [],
   "source": [
    "import matplotlib\n",
    "import os\n",
    "from skimage.io import imread\n",
    "\n",
    "plot = False\n",
    "if plot:\n",
    "    incorrect = []\n",
    "    y_id = [x for xs in model.test_image_ids for x in xs]\n",
    "    for prd, label, image_id in zip(y_pred, y_true, y_id):\n",
    "        if prd[3] == 0 and label[3] == 1:\n",
    "            incorrect.append(image_id)\n",
    "\n",
    "    f, axes = plt.subplots(1, 4, figsize=(25, 10))\n",
    "\n",
    "    for i, ax in enumerate(axes.flat):\n",
    "        if i >= len(incorrect):\n",
    "            ax.axis(\"off\")\n",
    "        else:\n",
    "            test_image = incorrect[i]\n",
    "            img_path = os.path.join(test_image)\n",
    "            image = imread(img_path).astype(np.float32)\n",
    "            image = (image - np.min(image)) / (np.max(image) - np.min(image))\n",
    "            image = (image * 255).astype(np.uint8)\n",
    "            ax.imshow(image, cmap=matplotlib.cm.gray)\n",
    "            ax.axis(\"off\")\n",
    "            ax.set_title(test_image.split('/')[-1])\n",
    "            print(test_image.split('/')[-1])\n",
    "\n",
    "    plt.subplots_adjust(wspace=0, hspace=0)\n",
    "    plt.show()"
   ]
  }
 ],
 "metadata": {
  "kernelspec": {
   "display_name": "an1924",
   "language": "python",
   "name": "python3"
  },
  "language_info": {
   "codemirror_mode": {
    "name": "ipython",
    "version": 3
   },
   "file_extension": ".py",
   "mimetype": "text/x-python",
   "name": "python",
   "nbconvert_exporter": "python",
   "pygments_lexer": "ipython3",
   "version": "3.12.4"
  }
 },
 "nbformat": 4,
 "nbformat_minor": 2
}
