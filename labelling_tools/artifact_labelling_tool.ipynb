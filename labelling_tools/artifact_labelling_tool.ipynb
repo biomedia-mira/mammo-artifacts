{
 "cells": [
  {
   "cell_type": "markdown",
   "metadata": {},
   "source": [
    "# Labelling python notebook tool\n",
    "\n",
    "This notebook allows for easy labelling of the artifact dataset."
   ]
  },
  {
   "cell_type": "code",
   "execution_count": 5,
   "metadata": {},
   "outputs": [],
   "source": [
    "import pandas as pd\n",
    "import numpy as np\n",
    "from utils_for_labelling_tool import get_images, plot_images\n",
    "import ipympl\n",
    "import os\n",
    "import sys\n",
    "sys.path.append(os.path.join(os.getcwd(), '..'))\n",
    "from artifact_detector_model import MARKER_NAMES"
   ]
  },
  {
   "cell_type": "markdown",
   "metadata": {},
   "source": [
    "### Data loading"
   ]
  },
  {
   "cell_type": "code",
   "execution_count": null,
   "metadata": {},
   "outputs": [],
   "source": [
    "annotation_file = \"manual_annotations_full_new.csv\"\n",
    "annotation_file_output = \"manual_annotations_full_new.csv\"\n",
    "base_csv_file = \"/vol/biomedic3/data/EMBED/tables/mammo-net-csv/embed-non-negative.csv\"  # initialise with the original embed file"
   ]
  },
  {
   "cell_type": "markdown",
   "metadata": {},
   "source": [
    "First load base dataset, with images ids. Filter out images that have already been labelled."
   ]
  },
  {
   "cell_type": "code",
   "execution_count": null,
   "metadata": {},
   "outputs": [],
   "source": [
    "df_labelled = pd.read_csv(annotation_file)  # the file with already labelled ids.\n",
    "df_base = pd.read_csv(base_csv_file)\n",
    "df_base = df_base[~df_base[\"image_path\"].isin(df_labelled[\"image_path\"].values)]\n",
    "# optional additonal filtering\n",
    "# df_base = df_base[df_base[\"spot_mag\"] != 1]"
   ]
  },
  {
   "cell_type": "markdown",
   "metadata": {},
   "source": [
    "Take a subset of the full dataset for labelling"
   ]
  },
  {
   "cell_type": "code",
   "execution_count": null,
   "metadata": {},
   "outputs": [],
   "source": [
    "df_filtered = df_base\n",
    "\n",
    "# Make empty columns that will be filled in labeling time\n",
    "num_classes = len(MARKER_NAMES)\n",
    "for marker in MARKER_NAMES:\n",
    "    df_filtered[marker] = 0\n",
    "df_filtered[\"multilabel_markers\"] = df_filtered.apply(\n",
    "    lambda row: np.array([row[name] for name in MARKER_NAMES]), axis=1\n",
    ")\n",
    "\n",
    "# Take 20 images\n",
    "df_filtered = df_filtered.sample(60)\n",
    "df_filtered[\"images\"] = get_images(df_filtered[\"image_path\"])"
   ]
  },
  {
   "cell_type": "markdown",
   "metadata": {},
   "source": [
    "### Labelling\n",
    "Labelling tool in form of interactive plot. If you click on one image you set the label of label index marker_names=['circle marker','triangle marker','breast implant', 'pacemaker','compression'] defines index order."
   ]
  },
  {
   "cell_type": "code",
   "execution_count": null,
   "metadata": {},
   "outputs": [],
   "source": [
    "label_index = 2 # change this to change which marker label to update.\n",
    "print(f\"You are updating label index {label_index} i.e. {MARKER_NAMES[label_index]}\")\n",
    "plot_images(\n",
    "    True,\n",
    "    df_filtered[\"images\"],\n",
    "    df_filtered[\"multilabel_markers\"],\n",
    "    label_index=label_index,\n",
    "    batch=2,\n",
    "    n_samples_row=4,\n",
    ")"
   ]
  },
  {
   "cell_type": "code",
   "execution_count": null,
   "metadata": {},
   "outputs": [],
   "source": [
    "# Update the labelled dataset file with the new labels.\n",
    "for i in range(len(MARKER_NAMES)):\n",
    "    df_filtered[MARKER_NAMES[i]] = df_filtered[\"multilabel_markers\"].apply(\n",
    "        lambda x: x[i]\n",
    "    )\n",
    "df_filtered = df_filtered[\n",
    "    [\n",
    "        \"image_path\",\n",
    "        \"acc_anon\",\n",
    "        \"empi_anon\",\n",
    "        \"SeriesDescription\",\n",
    "    ] \n",
    "    +\n",
    "    MARKER_NAMES\n",
    "]\n",
    "df_labelled_new = pd.concat((df_labelled, df_filtered))\n",
    "df_labelled_new.to_csv(annotation_file_output, index=False)\n",
    "print(f\"Finished writing to {annotation_file_output}\")"
   ]
  },
  {
   "cell_type": "markdown",
   "metadata": {},
   "source": [
    "# Display statistics about current label file"
   ]
  },
  {
   "cell_type": "code",
   "execution_count": null,
   "metadata": {},
   "outputs": [],
   "source": [
    "df = pd.read_csv(annotation_file_output)"
   ]
  },
  {
   "cell_type": "code",
   "execution_count": null,
   "metadata": {},
   "outputs": [],
   "source": [
    "len(df)"
   ]
  },
  {
   "cell_type": "code",
   "execution_count": null,
   "metadata": {},
   "outputs": [],
   "source": [
    "for c in MARKER_NAMES:\n",
    "    print(df[c].value_counts())"
   ]
  },
  {
   "cell_type": "code",
   "execution_count": null,
   "metadata": {},
   "outputs": [],
   "source": [
    "for c in MARKER_NAMES:\n",
    "    print(df[c].value_counts(normalize=True))"
   ]
  }
 ],
 "metadata": {
  "kernelspec": {
   "display_name": "Python 3 (ipykernel)",
   "language": "python",
   "name": "python3"
  },
  "language_info": {
   "codemirror_mode": {
    "name": "ipython",
    "version": 3
   },
   "file_extension": ".py",
   "mimetype": "text/x-python",
   "name": "python",
   "nbconvert_exporter": "python",
   "pygments_lexer": "ipython3",
   "version": "3.12.4"
  }
 },
 "nbformat": 4,
 "nbformat_minor": 4
}
